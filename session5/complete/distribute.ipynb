{
 "cells": [
  {
   "cell_type": "code",
   "execution_count": 1,
   "metadata": {},
   "outputs": [
    {
     "name": "stdout",
     "output_type": "stream",
     "text": [
      "010000000382887b37aa36414d17d5fc4ef98a449e83d310eff38db9d3015e493c8cd8fc97000000006a47304402202a120a185a74519177f68588658c91b96e2ac7267dd0123fbc85d63090e55f51022030805189c80fd174bfdc461cca13d0ed271e607f4d65fa6d68ac860df5603ace012103f96f3a1efd31e1a8d7078118ee56bff7355d58907ce0f865f5f0b3dbe34e55beffffffff3d85fdc292791ae232a70b4e00ae92385a5a133d62bc4b1cb4b84888f373af7d000000006a47304402204bf6e39dd65e505b2371e7f44521d32c6e75ed8018d28063882e7e11081dcffb02205e100df2f2d955f12553abc8089cb8dac23836a40ef8eb871beb7fdcf730ce76012103f96f3a1efd31e1a8d7078118ee56bff7355d58907ce0f865f5f0b3dbe34e55beffffffff8b966d8d367d69a3bc4bad70c4074531bc68a7df2e14d6c7167976b6a03165f0110000006a4730440220259b3f2ade55c97893cb562e51b71bc4e1da8f240fa90daea287ef5b96cc0cdf02203de71c74931d9b15d35ea7f32da7f4962fcfa5526d8784467e3d0ed2db578690012103f96f3a1efd31e1a8d7078118ee56bff7355d58907ce0f865f5f0b3dbe34e55beffffffff0280969800000000001976a914cacf42cc55e41094b8aeec6aee047fb03d6a6e9d88acbb18482f000000001976a9149e153ce5de3689901301309b9e8d804ab4804d4b88ac00000000\n"
     ]
    }
   ],
   "source": [
    "# disperse\n",
    "from ecc import PrivateKey\n",
    "from helper import decode_base58, p2pkh_script, SIGHASH_ALL\n",
    "from script import Script\n",
    "from tx import TxIn, TxOut, Tx\n",
    "import requests\n",
    "\n",
    "secret = 61740721216174072121\n",
    "priv = PrivateKey(secret=secret)\n",
    "my_address = priv.point.address(testnet=True)\n",
    "target_amount = 0.1\n",
    "fee = 0.005\n",
    "\n",
    "response = requests.get('https://testnet.blockexplorer.com/api/addr/{}/utxo'.format(my_address))\n",
    "utxos = response.json()\n",
    "\n",
    "student_addresses = [\n",
    "    'mz1K5YbtyXa6kBvYJXhpq7hukcQQ3kuFCJ'\n",
    "]\n",
    "# initialize inputs\n",
    "tx_ins = []\n",
    "total = 0\n",
    "for utxo in utxos:\n",
    "    prev_tx = bytes.fromhex(utxo['txid'])\n",
    "    prev_index = utxo['vout']\n",
    "    total += utxo['amount']\n",
    "    # create a new tx input\n",
    "    tx_ins.append(TxIn(\n",
    "            prev_tx=prev_tx,\n",
    "            prev_index=prev_index,\n",
    "            script_sig=b'',\n",
    "            sequence=0xffffffff,\n",
    "        ))\n",
    "\n",
    "# initialize outputs\n",
    "tx_outs = []\n",
    "\n",
    "for target_address in student_addresses:\n",
    "    # decode the hash160 from the target address\n",
    "    h160 = decode_base58(target_address)\n",
    "    # convert hash160 to p2pkh script\n",
    "    script_pubkey = p2pkh_script(h160)\n",
    "    # convert target amount to satoshis (multiply by 100 million)\n",
    "    target_satoshis = int(target_amount*100000000)\n",
    "    # create a new tx output for target\n",
    "    tx_outs.append(TxOut(\n",
    "        amount=target_satoshis,\n",
    "        script_pubkey=script_pubkey,\n",
    "    ))\n",
    "\n",
    "change_amount = total - target_amount*len(student_addresses) - fee\n",
    "\n",
    "h160 = decode_base58(my_address)\n",
    "script_pubkey = p2pkh_script(h160)\n",
    "change_satoshis = int(change_amount*100000000)\n",
    "tx_outs.append(TxOut(amount=change_satoshis, script_pubkey=script_pubkey))\n",
    "\n",
    "# create the transaction\n",
    "tx_obj = Tx(version=1, tx_ins=tx_ins, tx_outs=tx_outs, locktime=0, testnet=True)\n",
    "\n",
    "# now sign the 0th input with the private key using SIGHASH_ALL using sign_input\n",
    "for i in range(len(tx_obj.tx_ins)):\n",
    "    tx_obj.sign_input(i, priv, SIGHASH_ALL)\n",
    "\n",
    "# SANITY CHECK: fee is reasonable\n",
    "if tx_obj.fee(testnet=True) > 0.05*100000000 or tx_obj.fee(testnet=True) <= 0:\n",
    "    raise RuntimeError('Check that the change amount is reasonable. Fee is {}'.format(tx_obj.fee()))\n",
    "\n",
    "# serialize and hex()\n",
    "print(tx_obj.serialize().hex())"
   ]
  },
  {
   "cell_type": "code",
   "execution_count": null,
   "metadata": {},
   "outputs": [],
   "source": []
  }
 ],
 "metadata": {
  "kernelspec": {
   "display_name": "Python 3",
   "language": "python",
   "name": "python3"
  },
  "language_info": {
   "codemirror_mode": {
    "name": "ipython",
    "version": 3
   },
   "file_extension": ".py",
   "mimetype": "text/x-python",
   "name": "python",
   "nbconvert_exporter": "python",
   "pygments_lexer": "ipython3",
   "version": "3.5.2"
  }
 },
 "nbformat": 4,
 "nbformat_minor": 2
}
