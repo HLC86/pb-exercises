{
 "cells": [
  {
   "cell_type": "code",
   "execution_count": 4,
   "metadata": {},
   "outputs": [
    {
     "name": "stdout",
     "output_type": "stream",
     "text": [
      "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\n"
     ]
    }
   ],
   "source": [
    "# disperse\n",
    "from ecc import PrivateKey\n",
    "from helper import decode_base58, p2pkh_script, SIGHASH_ALL\n",
    "from script import Script\n",
    "from tx import TxIn, TxOut, Tx\n",
    "import requests\n",
    "\n",
    "secret = 61740721216174072121\n",
    "priv = PrivateKey(secret=secret)\n",
    "my_address = priv.point.address(testnet=True)\n",
    "target_amount = 0.1\n",
    "fee = 0.005\n",
    "\n",
    "response = requests.get('https://testnet.blockexplorer.com/api/addr/{}/utxo'.format(my_address))\n",
    "utxos = response.json()\n",
    "\n",
    "student_addresses = [\n",
    "\n",
    "]\n",
    "# initialize inputs\n",
    "tx_ins = []\n",
    "total = 0\n",
    "for utxo in utxos:\n",
    "    prev_tx = bytes.fromhex(utxo['txid'])\n",
    "    prev_index = utxo['vout']\n",
    "    total += utxo['amount']\n",
    "    # create a new tx input\n",
    "    tx_ins.append(TxIn(\n",
    "            prev_tx=prev_tx,\n",
    "            prev_index=prev_index,\n",
    "            script_sig=b'',\n",
    "            sequence=0xffffffff,\n",
    "        ))\n",
    "\n",
    "# initialize outputs\n",
    "tx_outs = []\n",
    "\n",
    "for target_address in student_addresses:\n",
    "    # decode the hash160 from the target address\n",
    "    h160 = decode_base58(target_address)\n",
    "    # convert hash160 to p2pkh script\n",
    "    script_pubkey = p2pkh_script(h160)\n",
    "    # convert target amount to satoshis (multiply by 100 million)\n",
    "    target_satoshis = int(target_amount*100000000)\n",
    "    # create a new tx output for target\n",
    "    tx_outs.append(TxOut(\n",
    "        amount=target_satoshis,\n",
    "        script_pubkey=script_pubkey,\n",
    "    ))\n",
    "\n",
    "change_amount = total - target_amount*len(student_addresses) - fee\n",
    "\n",
    "h160 = decode_base58(my_address)\n",
    "script_pubkey = p2pkh_script(h160)\n",
    "change_satoshis = int(change_amount*100000000)\n",
    "tx_outs.append(TxOut(amount=change_satoshis, script_pubkey=script_pubkey))\n",
    "\n",
    "# create the transaction\n",
    "tx_obj = Tx(version=1, tx_ins=tx_ins, tx_outs=tx_outs, locktime=0, testnet=True)\n",
    "\n",
    "# now sign the 0th input with the private key using SIGHASH_ALL using sign_input\n",
    "for i in range(len(tx_obj.tx_ins)):\n",
    "    tx_obj.sign_input(i, priv, SIGHASH_ALL)\n",
    "\n",
    "# SANITY CHECK: fee is reasonable\n",
    "if tx_obj.fee(testnet=True) > 0.05*100000000 or tx_obj.fee(testnet=True) <= 0:\n",
    "    raise RuntimeError('Check that the change amount is reasonable. Fee is {}'.format(tx_obj.fee()))\n",
    "\n",
    "# serialize and hex()\n",
    "print(tx_obj.serialize().hex())"
   ]
  },
  {
   "cell_type": "code",
   "execution_count": null,
   "metadata": {},
   "outputs": [],
   "source": []
  }
 ],
 "metadata": {
  "kernelspec": {
   "display_name": "Python 3",
   "language": "python",
   "name": "python3"
  },
  "language_info": {
   "codemirror_mode": {
    "name": "ipython",
    "version": 3
   },
   "file_extension": ".py",
   "mimetype": "text/x-python",
   "name": "python",
   "nbconvert_exporter": "python",
   "pygments_lexer": "ipython3",
   "version": "3.5.2"
  }
 },
 "nbformat": 4,
 "nbformat_minor": 2
}
